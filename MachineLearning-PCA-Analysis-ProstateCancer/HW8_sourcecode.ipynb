{
 "cells": [
  {
   "cell_type": "code",
   "execution_count": 1,
   "id": "1d261126",
   "metadata": {},
   "outputs": [],
   "source": [
    "#include all the modules here\n",
    "import matplotlib.pyplot as plt\n",
    "import numpy as np\n",
    "import pandas as pd\n",
    "from sklearn.preprocessing import StandardScaler\n",
    "from sklearn.decomposition import PCA\n",
    "from sklearn.neighbors import KNeighborsClassifier\n",
    "from mlxtend.plotting import plot_decision_regions\n",
    "from sklearn.cluster import KMeans\n",
    "import seaborn as sns"
   ]
  },
  {
   "cell_type": "markdown",
   "id": "13f04a99",
   "metadata": {},
   "source": [
    "## (1) Prostate_cancer-test.csv” is the test dataset. Using K-NN technique to determine the diagnosis result (that is, M or B), for K = 5, 7, 9. Note that you can use scikit-learn or write your own program"
   ]
  },
  {
   "cell_type": "code",
   "execution_count": 2,
   "id": "4db4c247",
   "metadata": {
    "scrolled": true
   },
   "outputs": [
    {
     "name": "stdout",
     "output_type": "stream",
     "text": [
      "\n",
      "Training Dataset is prepared for K-NN technique\n",
      "----------\n",
      "   diagnosis_result  radius  texture  perimeter  area  smoothness  compactness  \\\n",
      "0                M      23       12        151   954       0.143        0.278   \n",
      "1                B       9       13        133  1326       0.143        0.079   \n",
      "2                M      21       27        130  1203       0.125        0.160   \n",
      "3                M      14       16         78   386       0.070        0.284   \n",
      "4                M       9       19        135  1297       0.141        0.133   \n",
      "\n",
      "   symmetry  fractal_dimension  \n",
      "0     0.242              0.079  \n",
      "1     0.181              0.057  \n",
      "2     0.207              0.060  \n",
      "3     0.260              0.097  \n",
      "4     0.181              0.059  \n"
     ]
    }
   ],
   "source": [
    "# Create a Pandas DataFrame to store the data\n",
    "df=pd.read_csv('Prostate_cancer-training.csv')\n",
    "\n",
    "# Drop index column\n",
    "df = df.drop(df.columns[[0]], axis=1)\n",
    "print('\\nTraining Dataset is prepared for K-NN technique\\n----------\\n',df.head())"
   ]
  },
  {
   "cell_type": "code",
   "execution_count": 3,
   "id": "367113aa",
   "metadata": {},
   "outputs": [
    {
     "name": "stdout",
     "output_type": "stream",
     "text": [
      "Training Dataset without diagnosis_result column :\n",
      "     radius  texture  perimeter  area  smoothness  compactness  symmetry  \\\n",
      "0       23       12        151   954       0.143        0.278     0.242   \n",
      "1        9       13        133  1326       0.143        0.079     0.181   \n",
      "2       21       27        130  1203       0.125        0.160     0.207   \n",
      "3       14       16         78   386       0.070        0.284     0.260   \n",
      "4        9       19        135  1297       0.141        0.133     0.181   \n",
      "..     ...      ...        ...   ...         ...          ...       ...   \n",
      "70      21       18        124  1130       0.090        0.103     0.158   \n",
      "71       9       26         59   244       0.098        0.153     0.190   \n",
      "72      21       12        114   929       0.107        0.183     0.193   \n",
      "73      22       25         90   584       0.101        0.128     0.166   \n",
      "74      18       13         79   471       0.092        0.068     0.172   \n",
      "\n",
      "    fractal_dimension  \n",
      "0               0.079  \n",
      "1               0.057  \n",
      "2               0.060  \n",
      "3               0.097  \n",
      "4               0.059  \n",
      "..                ...  \n",
      "70              0.055  \n",
      "71              0.090  \n",
      "72              0.065  \n",
      "73              0.066  \n",
      "74              0.059  \n",
      "\n",
      "[75 rows x 8 columns]\n",
      "Data list of diagnosis_result column in training dataset: \n",
      " [1 0 1 1 1 0 1 1 1 1 1 1 0 1 1 1 1 1 1 0 0 0 1 1 1 1 1 1 1 1 1 1 1 1 1 1 1\n",
      " 0 1 1 1 1 1 1 1 1 0 1 0 0 0 0 0 1 1 0 1 1 0 0 0 0 1 0 1 1 0 0 0 0 1 0 1 1\n",
      " 0]\n"
     ]
    }
   ],
   "source": [
    "# Drop the target column for X\n",
    "X = df.drop(df.columns[[0]], axis=1)\n",
    "print('Training Dataset without diagnosis_result column :\\n', X)\n",
    "# Get the target column for y label\n",
    "y = df['diagnosis_result'].values\n",
    "# Convert 'B' and 'M' to integer for calculation\n",
    "y = np.where(y == 'B', 0, 1)\n",
    "print('Data list of diagnosis_result column in training dataset: \\n', y)"
   ]
  },
  {
   "cell_type": "code",
   "execution_count": 4,
   "id": "4788ed8c",
   "metadata": {},
   "outputs": [],
   "source": [
    "#Preprocessing Prostate_cancer-training dataset for each feature to have zero-mean, unit standard-deviation\n",
    "myscaler = StandardScaler()\n",
    "myscaler.fit(X)\n",
    "X = myscaler.transform(X)"
   ]
  },
  {
   "cell_type": "code",
   "execution_count": 5,
   "id": "51159b5c",
   "metadata": {
    "scrolled": true
   },
   "outputs": [
    {
     "name": "stdout",
     "output_type": "stream",
     "text": [
      "\n",
      "Prostate_cancer-test dataset for test\n",
      "----------\n",
      "    radius  texture  perimeter  area  smoothness  compactness  symmetry  \\\n",
      "0      21       18        104   818       0.092        0.084     0.180   \n",
      "1      10       17         88   559       0.129        0.105     0.240   \n",
      "2      11       21        120  1006       0.107        0.215     0.215   \n",
      "3      16       18        144  1245       0.129        0.345     0.291   \n",
      "4      22       16         83   506       0.099        0.095     0.172   \n",
      "\n",
      "   fractal_dimension  \n",
      "0              0.054  \n",
      "1              0.066  \n",
      "2              0.067  \n",
      "3              0.081  \n",
      "4              0.060  \n"
     ]
    }
   ],
   "source": [
    "# Create test dataset and preprocess this\n",
    "df=pd.read_csv('Prostate_cancer-test.csv')\n",
    "# drop index column\n",
    "test_X_df = df.drop(df.columns[[0]], axis=1)\n",
    "print('\\nProstate_cancer-test dataset for test\\n----------\\n',test_X_df.head())\n"
   ]
  },
  {
   "cell_type": "code",
   "execution_count": 6,
   "id": "99c957d1",
   "metadata": {},
   "outputs": [
    {
     "name": "stdout",
     "output_type": "stream",
     "text": [
      "Normalized test dataset \n",
      " [[ 0.86508029 -0.13101755  0.16455984  0.196624   -0.73282022 -0.5934758\n",
      "  -0.33963456 -1.45030332]\n",
      " [-1.33767046 -0.32369041 -0.4745075  -0.52922572  2.20163306 -0.27715621\n",
      "   1.57559792  0.44139666]\n",
      " [-1.13742039  0.44700104  0.80362717  0.72349562  0.456823    1.37975593\n",
      "   0.77758439  0.59903833]\n",
      " [-0.13617005 -0.13101755  1.76222818  1.39329517  2.20163306  3.33792483\n",
      "   3.20354552  2.80602164]\n",
      " [ 1.06533036 -0.51636327 -0.67421604 -0.67775868 -0.17765339 -0.42778459\n",
      "  -0.59499889 -0.50445333]\n",
      " [-1.33767046 -0.13101755 -1.03369142 -0.96921957  0.69475164 -0.44284743\n",
      "  -0.21195239  1.07196332]\n",
      " [ 0.06408002  0.44700104 -0.55439091 -0.63852356  0.53613255  0.46092283\n",
      "   0.10725302  0.91432166]\n",
      " [-1.33767046 -0.70903613  2.88059601  3.16728311  0.37751345  2.16302349\n",
      "  -0.24387294  0.75667999]\n",
      " [ 0.66483023 -0.901709    1.16310255  1.0766117   1.64646622  0.83749377\n",
      "  -0.88228376  1.38724665]\n",
      " [ 1.66608057  0.44700104 -0.91386629 -0.85431672 -0.33627248 -0.77422986\n",
      "   0.5541406  -0.50445333]\n",
      " [-0.53667018 -1.09438186  0.84356888  0.91686871 -0.17765339 -0.27715621\n",
      "   0.7137433  -0.50445333]\n",
      " [ 0.46458016  1.41036536 -0.23485725 -0.27980246 -0.57420113 -0.36753324\n",
      "   0.5541406  -1.13501999]\n",
      " [ 0.46458016 -1.47972759  0.88351059  0.91967122 -0.89143932 -0.03615081\n",
      "   0.13917356 -1.13501999]\n",
      " [-1.13742039 -1.47972759 -0.79404116 -0.78985902 -1.05005842 -0.44284743\n",
      "   0.07533248  0.12611333]\n",
      " [-0.93717032  0.83234677 -0.15497383 -0.26859242  0.93268029  0.15966608\n",
      "   0.68182276 -0.03152833]\n",
      " [ 1.26558043  1.60303822 -0.19491554 -0.23776483 -0.89143932 -0.56335013\n",
      "  -0.69076051 -0.66209499]\n",
      " [-1.33767046 -1.28705472  0.00479301 -0.05560177 -0.73282022 -0.29221905\n",
      "  -0.59499889 -0.34681166]\n",
      " [-0.53667018 -0.901709   -0.59433262 -0.54884328 -2.16039209 -1.09054945\n",
      "  -1.64837675 -1.60794499]\n",
      " [-1.33767046 -0.32369041 -0.51444921 -0.54043576  0.06027526 -0.62360148\n",
      "  -0.85036322 -0.97737832]\n",
      " [ 1.06533036  1.41036536  0.00479301 -0.11725696  0.21889435  0.47598567\n",
      "  -0.14811131 -0.03152833]\n",
      " [ 1.26558043 -0.51636327  1.28292768  1.44654284 -0.81212977  0.11447757\n",
      "   0.61798168 -1.13501999]\n",
      " [ 1.06533036 -0.901709   -0.87392458 -0.83189665  0.2982039  -0.78929269\n",
      "  -0.02042915  0.44139666]\n",
      " [ 0.46458016  1.60303822 -1.51299192 -1.26908799  0.06027526 -1.06042377\n",
      "  -1.77605892  0.91432166]\n",
      " [ 0.86508029  1.02501963 -1.03369142 -0.93839198 -0.89143932 -0.72904134\n",
      "  -0.9142043   0.44139666]\n",
      " [-0.13617005  1.60303822 -0.23485725 -0.293815   -0.25696294 -0.14159067\n",
      "  -0.08427023  0.12611333]]\n"
     ]
    }
   ],
   "source": [
    "# Preprocessing Prostate_cancer-test dataset for each feature to have zero-mean, unit standard-deviation\n",
    "myscaler.fit(test_X_df)\n",
    "test_X = myscaler.transform(test_X_df)\n",
    "print('Normalized test dataset \\n',test_X)"
   ]
  },
  {
   "cell_type": "code",
   "execution_count": 7,
   "id": "3cb4eb7d",
   "metadata": {},
   "outputs": [
    {
     "name": "stdout",
     "output_type": "stream",
     "text": [
      "Prediction Results for k =  5 \n",
      "\n",
      "    radius  texture  perimeter  area  smoothness  compactness  symmetry  fractal_dimension result\n",
      "0       21       18        104   818       0.092        0.084     0.180              0.054      M\n",
      "1       10       17         88   559       0.129        0.105     0.240              0.066      M\n",
      "2       11       21        120  1006       0.107        0.215     0.215              0.067      M\n",
      "3       16       18        144  1245       0.129        0.345     0.291              0.081      M\n",
      "4       22       16         83   506       0.099        0.095     0.172              0.060      B\n",
      "5       10       18         74   402       0.110        0.094     0.184              0.070      B\n",
      "6       17       21         86   520       0.108        0.154     0.194              0.069      M\n",
      "7       10       15        172  1878       0.106        0.267     0.183              0.068      M\n",
      "8       20       14        129  1132       0.122        0.179     0.163              0.072      M\n",
      "9       25       21         77   443       0.097        0.072     0.208              0.060      B\n",
      "10      14       13        121  1075       0.099        0.105     0.213              0.060      M\n",
      "11      19       26         94   648       0.094        0.099     0.208              0.056      M\n",
      "12      19       11        122  1076       0.090        0.121     0.195              0.056      M\n",
      "13      11       11         80   466       0.088        0.094     0.193              0.064      B\n",
      "14      12       23         96   652       0.113        0.134     0.212              0.063      M\n",
      "15      23       27         95   663       0.090        0.086     0.169              0.059      M\n",
      "16      10       12        100   728       0.092        0.104     0.172              0.061      M\n",
      "17      14       14         85   552       0.074        0.051     0.139              0.053      B\n",
      "18      10       17         87   555       0.102        0.082     0.164              0.057      M\n",
      "19      22       26        100   706       0.104        0.155     0.186              0.063      M\n",
      "20      23       16        132  1264       0.091        0.131     0.210              0.056      M\n",
      "21      22       14         78   451       0.105        0.071     0.190              0.066      B\n",
      "22      19       27         62   295       0.102        0.053     0.135              0.069      B\n",
      "23      21       24         74   413       0.090        0.075     0.162              0.066      B\n",
      "24      16       27         94   643       0.098        0.114     0.188              0.064      M\n",
      "Prediction Results for k =  7 \n",
      "\n",
      "    radius  texture  perimeter  area  smoothness  compactness  symmetry  fractal_dimension result\n",
      "0       21       18        104   818       0.092        0.084     0.180              0.054      M\n",
      "1       10       17         88   559       0.129        0.105     0.240              0.066      M\n",
      "2       11       21        120  1006       0.107        0.215     0.215              0.067      M\n",
      "3       16       18        144  1245       0.129        0.345     0.291              0.081      M\n",
      "4       22       16         83   506       0.099        0.095     0.172              0.060      B\n",
      "5       10       18         74   402       0.110        0.094     0.184              0.070      M\n",
      "6       17       21         86   520       0.108        0.154     0.194              0.069      M\n",
      "7       10       15        172  1878       0.106        0.267     0.183              0.068      M\n",
      "8       20       14        129  1132       0.122        0.179     0.163              0.072      M\n",
      "9       25       21         77   443       0.097        0.072     0.208              0.060      B\n",
      "10      14       13        121  1075       0.099        0.105     0.213              0.060      M\n",
      "11      19       26         94   648       0.094        0.099     0.208              0.056      M\n",
      "12      19       11        122  1076       0.090        0.121     0.195              0.056      M\n",
      "13      11       11         80   466       0.088        0.094     0.193              0.064      B\n",
      "14      12       23         96   652       0.113        0.134     0.212              0.063      M\n",
      "15      23       27         95   663       0.090        0.086     0.169              0.059      B\n",
      "16      10       12        100   728       0.092        0.104     0.172              0.061      M\n",
      "17      14       14         85   552       0.074        0.051     0.139              0.053      B\n",
      "18      10       17         87   555       0.102        0.082     0.164              0.057      M\n",
      "19      22       26        100   706       0.104        0.155     0.186              0.063      M\n",
      "20      23       16        132  1264       0.091        0.131     0.210              0.056      M\n",
      "21      22       14         78   451       0.105        0.071     0.190              0.066      B\n",
      "22      19       27         62   295       0.102        0.053     0.135              0.069      B\n",
      "23      21       24         74   413       0.090        0.075     0.162              0.066      B\n",
      "24      16       27         94   643       0.098        0.114     0.188              0.064      M\n",
      "Prediction Results for k =  9 \n",
      "\n",
      "    radius  texture  perimeter  area  smoothness  compactness  symmetry  fractal_dimension result\n",
      "0       21       18        104   818       0.092        0.084     0.180              0.054      M\n",
      "1       10       17         88   559       0.129        0.105     0.240              0.066      M\n",
      "2       11       21        120  1006       0.107        0.215     0.215              0.067      M\n",
      "3       16       18        144  1245       0.129        0.345     0.291              0.081      M\n",
      "4       22       16         83   506       0.099        0.095     0.172              0.060      B\n",
      "5       10       18         74   402       0.110        0.094     0.184              0.070      M\n",
      "6       17       21         86   520       0.108        0.154     0.194              0.069      M\n",
      "7       10       15        172  1878       0.106        0.267     0.183              0.068      M\n",
      "8       20       14        129  1132       0.122        0.179     0.163              0.072      M\n",
      "9       25       21         77   443       0.097        0.072     0.208              0.060      B\n",
      "10      14       13        121  1075       0.099        0.105     0.213              0.060      M\n",
      "11      19       26         94   648       0.094        0.099     0.208              0.056      M\n",
      "12      19       11        122  1076       0.090        0.121     0.195              0.056      M\n",
      "13      11       11         80   466       0.088        0.094     0.193              0.064      B\n",
      "14      12       23         96   652       0.113        0.134     0.212              0.063      M\n",
      "15      23       27         95   663       0.090        0.086     0.169              0.059      M\n",
      "16      10       12        100   728       0.092        0.104     0.172              0.061      M\n",
      "17      14       14         85   552       0.074        0.051     0.139              0.053      B\n",
      "18      10       17         87   555       0.102        0.082     0.164              0.057      M\n",
      "19      22       26        100   706       0.104        0.155     0.186              0.063      M\n",
      "20      23       16        132  1264       0.091        0.131     0.210              0.056      M\n",
      "21      22       14         78   451       0.105        0.071     0.190              0.066      B\n",
      "22      19       27         62   295       0.102        0.053     0.135              0.069      B\n",
      "23      21       24         74   413       0.090        0.075     0.162              0.066      B\n",
      "24      16       27         94   643       0.098        0.114     0.188              0.064      M\n"
     ]
    }
   ],
   "source": [
    "# According to Prostate_cancer-training.csv dataset, doing KNeighborsClassifier \n",
    "# Then according to Prostate_cancer-test.csv, predicting the diagnosis result (that is, M or B), for K = 5, 7, 9\n",
    "# Print test dateset and predicted result as list for each K seperatly\n",
    "def determine_KNN(X_value, y_value, k):\n",
    "    clf = KNeighborsClassifier(n_neighbors=k)\n",
    "    clf.fit(X_value, y_value)\n",
    "\n",
    "    y_predict = clf.predict(test_X)\n",
    "    \n",
    "    print('Prediction Results for k = ', k,'\\n')\n",
    "    y_predict_df = pd.DataFrame(data = np.where(y_predict == 0, 'B', 'M'),\n",
    "             columns = ['result'])\n",
    "    predict_df = pd.concat([test_X_df,y_predict_df], axis=1)\n",
    "    print(predict_df.head(30).to_string())\n",
    "\n",
    "# Createing list for k = 5, 7, 9 and calling determine_KNN methods\n",
    "k_list = [5,7,9]\n",
    "for k in k_list:\n",
    "    determine_KNN(X, y, k)"
   ]
  },
  {
   "cell_type": "code",
   "execution_count": null,
   "id": "5aa582a9",
   "metadata": {},
   "outputs": [],
   "source": [
    "# Predict for test dataset from selected two features like perimeter and compactness\n",
    "# Determine the diagnosis result (that is, M or B), for K = 5, 7, 9\n",
    "df=pd.read_csv('Prostate_cancer-training.csv')\n",
    "# Drop index column\n",
    "df = df.drop(df.columns[[0]], axis=1)\n",
    "print('\\Prostate_cancer-training Dataset is prepared for K-NN technique\\n----------\\n',df.head())  \n",
    "\n",
    "# Drop the target column\n",
    "X = df.drop(df.columns[[0,1,2,4,5,7,8]], axis=1)\n",
    "y = df['diagnosis_result'].values # Get the target column for y label\n",
    "y = np.where(y == 'B', 0, 1) # Convert 'B' and 'M' to integer for calculation\n",
    "\n",
    "# Data Preprocessing for each feature to have zero-mean, unit standard-deviation\n",
    "myscaler = StandardScaler()\n",
    "myscaler.fit(X)\n",
    "X = myscaler.transform(X)\n",
    "\n",
    "# Create test dataset and preprocess this\n",
    "df=pd.read_csv('Prostate_cancer-test.csv')\n",
    "# create X for test\n",
    "test_X = df.drop(df.columns[[0,1,2,4,5,7,8]], axis=1)\n",
    "print('\\nProstate_cancer-test dataset for test for 2 features\\n----------\\n',test_X.head())\n",
    "\n",
    "myscaler.fit(test_X)\n",
    "test_X = myscaler.transform(test_X)\n",
    "\n",
    "# Create KNeighborsClassifier for selected two features perimeter and compactness\n",
    "# Determine the diagnosis result (that is, M or B)\n",
    "def determine_KNN_for_2features(X_value, y_value, k):\n",
    "    clf = KNeighborsClassifier(n_neighbors=k)\n",
    "    clf.fit(X_value, y_value)\n",
    "    y_predict = clf.predict(test_X)\n",
    "    \n",
    "    # Plotting decision regions\n",
    "    ax = plot_decision_regions(test_X, y_predict, clf=clf, legend=2)\n",
    "    plt.xlabel('perimeter')\n",
    "    plt.ylabel('compactness')\n",
    "    plt.title('K-NN with K = ' + str(k))\n",
    "    handles, labels = ax.get_legend_handles_labels()\n",
    "    ax.legend(handles, ['B', 'M'], framealpha=0.3, scatterpoints=1)\n",
    "    plt.show()\n",
    "\n",
    "k_list = [5,7,9]\n",
    "for k in k_list:\n",
    "    determine_KNN_for_2features(X, y, k)"
   ]
  },
  {
   "cell_type": "markdown",
   "id": "7c1e6ac3",
   "metadata": {},
   "source": [
    "## (2) Use the first and second PC (principal component) to conduct k-means cluster for “Prostate_cancer-training.csv” dataset. What is the value of k that you think is proper? Visualize the clustering results."
   ]
  },
  {
   "cell_type": "code",
   "execution_count": 8,
   "id": "3bb8db04",
   "metadata": {},
   "outputs": [
    {
     "name": "stdout",
     "output_type": "stream",
     "text": [
      "\n",
      "Dataset is prepared for K-NN technique\n",
      "----------\n",
      "    radius  texture  perimeter  area  smoothness  compactness  symmetry  \\\n",
      "0      23       12        151   954       0.143        0.278     0.242   \n",
      "1       9       13        133  1326       0.143        0.079     0.181   \n",
      "2      21       27        130  1203       0.125        0.160     0.207   \n",
      "3      14       16         78   386       0.070        0.284     0.260   \n",
      "4       9       19        135  1297       0.141        0.133     0.181   \n",
      "\n",
      "   fractal_dimension  \n",
      "0              0.079  \n",
      "1              0.057  \n",
      "2              0.060  \n",
      "3              0.097  \n",
      "4              0.059  \n"
     ]
    }
   ],
   "source": [
    "# Create a Pandas DataFrame to store the data\n",
    "cancer_df=pd.read_csv('Prostate_cancer-training.csv')\n",
    "\n",
    "# Drop index column and diagnosis_result\n",
    "cancer_df = cancer_df.drop(cancer_df.columns[[0,1]], axis=1)\n",
    "print('\\nDataset is prepared for K-NN technique\\n----------\\n',cancer_df.head())"
   ]
  },
  {
   "cell_type": "code",
   "execution_count": 9,
   "id": "2cf82147",
   "metadata": {},
   "outputs": [
    {
     "name": "stdout",
     "output_type": "stream",
     "text": [
      "\n",
      "Dataset normalization (first data)\n",
      "----------\n",
      " [ 1.26785085 -1.18048387  2.40750697  0.87931534  2.62828462  2.55315195\n",
      "  1.58121458  1.61343317]\n",
      "\n",
      "PCA dataframe\n",
      "----------\n",
      "     1st_Principal_Component  2nd_Principal_Component\n",
      "0                  4.398899                 0.181766\n",
      "1                  1.543798                -3.098116\n",
      "2                  1.931229                -1.303320\n",
      "3                  2.150347                 3.599619\n",
      "4                  2.169595                -2.680056\n",
      "..                      ...                      ...\n",
      "70                -0.711462                -2.301330\n",
      "71                 0.317489                 2.992222\n",
      "72                 0.855243                -0.704704\n",
      "73                -0.703089                 0.508445\n",
      "74                -1.994875                -0.095146\n",
      "\n",
      "[75 rows x 2 columns]\n"
     ]
    }
   ],
   "source": [
    "# Determine the first and second PC (principal component) to conduct k-means cluster\n",
    "xNorm = StandardScaler().fit_transform(cancer_df)\n",
    "print('\\nDataset normalization (first data)\\n----------\\n', xNorm[0])\n",
    "pca = PCA(n_components=2)\n",
    "pcaComponents = pca.fit_transform(xNorm)\n",
    "pcaResult = pd.DataFrame(data = pcaComponents,\n",
    "             columns = ['1st_Principal_Component', '2nd_Principal_Component'])\n",
    "print('\\nPCA dataframe\\n----------\\n',pcaResult)"
   ]
  },
  {
   "cell_type": "code",
   "execution_count": 10,
   "id": "27ef2c21",
   "metadata": {},
   "outputs": [
    {
     "name": "stderr",
     "output_type": "stream",
     "text": [
      "C:\\Users\\seniz\\anaconda3\\lib\\site-packages\\sklearn\\cluster\\_kmeans.py:1036: UserWarning: KMeans is known to have a memory leak on Windows with MKL, when there are less chunks than available threads. You can avoid it by setting the environment variable OMP_NUM_THREADS=1.\n",
      "  warnings.warn(\n"
     ]
    },
    {
     "data": {
      "image/png": "[encoded data removed]",
      "text/plain": [
       "<Figure size 360x288 with 1 Axes>"
      ]
     },
     "metadata": {
      "needs_background": "light"
     },
     "output_type": "display_data"
    }
   ],
   "source": [
    "# From this graph, the proper number of clusters can be found as 3\n",
    "wcss =[]\n",
    "for i in range(1, 12):\n",
    "    kmeans = KMeans(n_clusters = i).fit(pcaResult)\n",
    "    wcss.append(kmeans.inertia_)\n",
    "plt.figure(figsize=(5,4))    \n",
    "plt.plot(range(1, 12), wcss)\n",
    "plt.title('Elbow method')\n",
    "plt.xlabel('Number of clusters')\n",
    "plt.ylabel('within-cluster sums of squares (WCSS)')\n",
    "plt.show()"
   ]
  },
  {
   "cell_type": "code",
   "execution_count": null,
   "id": "ab0c14bd",
   "metadata": {},
   "outputs": [],
   "source": [
    "#Visualize the clustering results for first and second PCA\n",
    "cluster_num = 3  # according to result of elbow method  \n",
    "    \n",
    "kmeans = KMeans(n_clusters=cluster_num)\n",
    "y_kmeans = kmeans.fit_predict(pcaResult)\n",
    "print('\\n k-means result (first 5)\\n----------\\n',y_kmeans[0:5])\n",
    "print('\\nCluster Center \\n----------\\n',kmeans.cluster_centers_)\n",
    "\n",
    "centroids = kmeans.cluster_centers_\n",
    "\n",
    "plt.scatter(x=pcaResult['1st_Principal_Component'], y=pcaResult['2nd_Principal_Component'], c=y_kmeans, cmap='rainbow')\n",
    "plt.scatter(centroids[:, 0], centroids[:, 1],\n",
    "            marker='x', s=169, linewidths=3,\n",
    "            color='black', zorder=10,lw=3)\n",
    "plt.xlabel('Principal Component 1')\n",
    "plt.ylabel('Principal Component 2')\n",
    "plt.title('Clustered Data (PCA visualization)',fontweight='bold')\n",
    "plt.show()"
   ]
  },
  {
   "cell_type": "code",
   "execution_count": null,
   "id": "94ee9764",
   "metadata": {},
   "outputs": [],
   "source": []
  }
 ],
 "metadata": {
  "kernelspec": {
   "display_name": "Python 3 (ipykernel)",
   "language": "python",
   "name": "python3"
  },
  "language_info": {
   "codemirror_mode": {
    "name": "ipython",
    "version": 3
   },
   "file_extension": ".py",
   "mimetype": "text/x-python",
   "name": "python",
   "nbconvert_exporter": "python",
   "pygments_lexer": "ipython3",
   "version": "3.9.12"
  }
 },
 "nbformat": 4,
 "nbformat_minor": 5
}
